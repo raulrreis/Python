{
 "cells": [
  {
   "cell_type": "markdown",
   "id": "ad573127",
   "metadata": {},
   "source": [
    "# Coletando estatísticas dos jogadores por temporada regular da NBA\n",
    "\n",
    "### O objetivo \n",
    "* O objetivo dessa pesquisa é fazer uma comparação entre as distribuições dos pontos ( cesta de quadra, cesta de 3 e lances livres );\n",
    "* No qual vai ser feito testes estatisticos para saber se exite uma diferença significativa entre os tipos de pontos.\n",
    "\n",
    "### A metodologia utilizada é descrita abaixo:\n",
    "\n",
    "1. Entraremos no linke da nba <https://www.nba.com/stats/players/traditional/?sort=PTS&dir=-1>;\n",
    "2. Encontraremos a api das estatísticas dos jogadores e importaremos através do módulo [requests](https://docs.python-requests.org/en/latest/);\n",
    "3. Alocaremos em um data frame através do módulo [pandas](https://pandas.pydata.org/docs/) e [numpy](https://numpy.org/doc/);\n",
    "4. Faremos uma breve visualização dos dados com o módulo [seaborn](https://seaborn.pydata.org/) e [matplolib.pyplot](https://matplotlib.org/stable/api/_as_gen/matplotlib.pyplot.html);\n",
    "5. E por fim, faremos os testes de hipóteses com o módulo [scipy](https://scipy.github.io/devdocs/index.html).\n",
    "\n",
    "###### OBS: '' Caso dê erro no requests.get  é devido a atualização do site da NBA no qual muda as localizações da api do site, mas não se preocupe com isso! Vou estar sempre atualizando esse script. ''"
   ]
  },
  {
   "cell_type": "code",
   "execution_count": 76,
   "id": "87a896c5",
   "metadata": {},
   "outputs": [],
   "source": [
    "# Importando os módulos\n",
    "import numpy as np\n",
    "import pandas as pd\n",
    "import requests\n",
    "import seaborn as sb\n",
    "import matplotlib.pyplot as plt"
   ]
  },
  {
   "cell_type": "markdown",
   "id": "a58f2490",
   "metadata": {},
   "source": [
    "#### Passo 1 - Importando a api do site e alocando as estatísticas em um data frame"
   ]
  },
  {
   "cell_type": "code",
   "execution_count": 2,
   "id": "37995887",
   "metadata": {},
   "outputs": [],
   "source": [
    "# Importando a api das estatísticas da tabela do site\n",
    "headers = {\n",
    "    'Connection': 'keep-alive',\n",
    "    'sec-ch-ua': '\" Not;A Brand\";v=\"99\", \"Google Chrome\";v=\"97\", \"Chromium\";v=\"97\"',\n",
    "    'Accept': 'application/json, text/plain, */*',\n",
    "    'x-nba-stats-token': 'true',\n",
    "    'sec-ch-ua-mobile': '?1',\n",
    "    'User-Agent': 'Mozilla/5.0 (Linux; Android 6.0; Nexus 5 Build/MRA58N) AppleWebKit/537.36 (KHTML, like Gecko) Chrome/97.0.4692.71 Mobile Safari/537.36',\n",
    "    'x-nba-stats-origin': 'stats',\n",
    "    'sec-ch-ua-platform': '\"Android\"',\n",
    "    'Origin': 'https://www.nba.com',\n",
    "    'Sec-Fetch-Site': 'same-site',\n",
    "    'Sec-Fetch-Mode': 'cors',\n",
    "    'Sec-Fetch-Dest': 'empty',\n",
    "    'Referer': 'https://www.nba.com/',\n",
    "    'Accept-Language': 'pt-BR,pt;q=0.9,en-US;q=0.8,en;q=0.7',\n",
    "    'If-Modified-Since': 'Mon, 17 Jan 2022 17:50:13 GMT',\n",
    "}\n",
    "\n",
    "params = (\n",
    "    ('College', ''),\n",
    "    ('Conference', ''),\n",
    "    ('Country', ''),\n",
    "    ('DateFrom', ''),\n",
    "    ('DateTo', ''),\n",
    "    ('Division', ''),\n",
    "    ('DraftPick', ''),\n",
    "    ('DraftYear', ''),\n",
    "    ('GameScope', ''),\n",
    "    ('GameSegment', ''),\n",
    "    ('Height', ''),\n",
    "    ('LastNGames', '0'),\n",
    "    ('LeagueID', '00'),\n",
    "    ('Location', ''),\n",
    "    ('MeasureType', 'Base'),\n",
    "    ('Month', '0'),\n",
    "    ('OpponentTeamID', '0'),\n",
    "    ('Outcome', ''),\n",
    "    ('PORound', '0'),\n",
    "    ('PaceAdjust', 'N'),\n",
    "    ('PerMode', 'PerGame'),\n",
    "    ('Period', '0'),\n",
    "    ('PlayerExperience', ''),\n",
    "    ('PlayerPosition', ''),\n",
    "    ('PlusMinus', 'N'),\n",
    "    ('Rank', 'N'),\n",
    "    ('Season', '2021-22'),\n",
    "    ('SeasonSegment', ''),\n",
    "    ('SeasonType', 'Regular Season'),\n",
    "    ('ShotClockRange', ''),\n",
    "    ('StarterBench', ''),\n",
    "    ('TeamID', '0'),\n",
    "    ('TwoWay', '0'),\n",
    "    ('VsConference', ''),\n",
    "    ('VsDivision', ''),\n",
    "    ('Weight', ''),\n",
    ")\n",
    "\n",
    "response = requests.get('https://stats.nba.com/stats/leaguedashplayerstats', headers=headers, params=params)\n"
   ]
  },
  {
   "cell_type": "code",
   "execution_count": 128,
   "id": "f0b89330",
   "metadata": {},
   "outputs": [
    {
     "data": {
      "text/plain": [
       "<Response [200]>"
      ]
     },
     "execution_count": 128,
     "metadata": {},
     "output_type": "execute_result"
    }
   ],
   "source": [
    "#Verificando se a conexão foi feita de forma correta, para isso o resultado tem que ser 200\n",
    "response"
   ]
  },
  {
   "cell_type": "code",
   "execution_count": 4,
   "id": "e929fc97",
   "metadata": {},
   "outputs": [],
   "source": [
    "# Inserindo as colunas que vamos utilizar no data frame\n",
    "columns=response.json()['resultSets'][0]['headers']\n"
   ]
  },
  {
   "cell_type": "code",
   "execution_count": 5,
   "id": "1bce870a",
   "metadata": {},
   "outputs": [],
   "source": [
    "# Data Frame\n",
    "nba_df=pd.DataFrame(response.json()['resultSets'][0]['rowSet'],columns=columns)"
   ]
  },
  {
   "cell_type": "code",
   "execution_count": 6,
   "id": "46fa8f75",
   "metadata": {},
   "outputs": [],
   "source": [
    "# As principais colunas\n",
    "columns_relevant=['PLAYER_NAME','TEAM_ABBREVIATION','AGE','GP','W',\n",
    "   'L','MIN','FGM','FGA','FG_PCT','FG3M','FG3A',\n",
    "    'FG3_PCT','FTM','FTA','FT_PCT','OREB','DREB','REB','AST',\n",
    "   'TOV','STL','BLK','BLKA','PF','PFD','PTS','PLUS_MINUS',\n",
    "    'NBA_FANTASY_PTS','DD2','TD3']"
   ]
  },
  {
   "cell_type": "code",
   "execution_count": 129,
   "id": "d687c6c7",
   "metadata": {},
   "outputs": [],
   "source": [
    "# Data Frame pronto\n",
    "nba_df=nba_df.loc[:,columns_relevant]"
   ]
  },
  {
   "cell_type": "code",
   "execution_count": 79,
   "id": "6148c9c8",
   "metadata": {},
   "outputs": [],
   "source": [
    "# Criando um data frame dos pontos\n",
    "x=np.array([\"FGM\", \"FTM\",\"FG3M\"])\n",
    "tipos_pontos=np.repeat(x, [nba_df.shape[0],nba_df.shape[0],nba_df.shape[0]], axis=0)\n",
    "pontos=nba_df[x[0]]\n",
    "for i in range(1,len(x)):\n",
    "    pontos=pontos.append(nba_df[x[i]])\n",
    "\n",
    "pontos_df=pd.DataFrame(list(zip(tipos_pontos,pontos)),columns=['tipos_pontos','pontos'])"
   ]
  },
  {
   "cell_type": "markdown",
   "id": "6d7a509c",
   "metadata": {},
   "source": [
    "#### Passo 2 - Visualização dos pontos "
   ]
  },
  {
   "cell_type": "code",
   "execution_count": 24,
   "id": "89654745",
   "metadata": {},
   "outputs": [
    {
     "data": {
      "text/plain": [
       "Text(0.5, 1.0, 'Distribuição dos ponto\\n de 3 feitos')"
      ]
     },
     "execution_count": 24,
     "metadata": {},
     "output_type": "execute_result"
    },
    {
     "data": {
      "image/png": "[encoded data removed]",
      "text/plain": [
       "<Figure size 1080x360 with 3 Axes>"
      ]
     },
     "metadata": {
      "needs_background": "light"
     },
     "output_type": "display_data"
    }
   ],
   "source": [
    "#Histogramas \n",
    "fig,axes=plt.subplots(1,3,figsize=[15,5]);\n",
    "sb.histplot(ax=axes[0],x=nba_df['FGM']);\n",
    "axes[0].set_title('Distribuição dos ponto\\n de quadra feitos');\n",
    "sb.histplot(ax=axes[1],x=nba_df['FTM'],color=\"green\");\n",
    "axes[1].set_title('Distribuição dos ponto\\n de lances livres feitos')\n",
    "sb.histplot(ax=axes[2],x=nba_df['FG3M'],color=\"red\");\n",
    "axes[2].set_title('Distribuição dos ponto\\n de 3 feitos')"
   ]
  },
  {
   "cell_type": "markdown",
   "id": "9836994f",
   "metadata": {},
   "source": [
    "* Percebe-se, na figura azul acima que os pontos de quadra, tem-se uma frequência muito maior em sua cauda do que os outros tipos de pontos. Mas, isso já é o esperado, agora olhando para a ditribuição dos pontos de três na figura vermelha, temos uma ocorrência bem menor nos seus extremos, no qual tem-se apenas um valor com 5 cestas de três por jogo ( Esse jogador com esse outlier chama-se Stephen Curry ). Com isso, é possivel perceber uma diferença entre as distribuições dos pontos, vamos visualizar melhor em um boxplot abaixo: "
   ]
  },
  {
   "cell_type": "code",
   "execution_count": 105,
   "id": "346efc76",
   "metadata": {},
   "outputs": [
    {
     "data": {
      "image/png": "[encoded data removed]",
      "text/plain": [
       "<Figure size 864x432 with 1 Axes>"
      ]
     },
     "metadata": {
      "needs_background": "light"
     },
     "output_type": "display_data"
    }
   ],
   "source": [
    "# Boxplot\n",
    "fig,axes=plt.subplots(1,figsize=[12,6]);\n",
    "sb.boxplot(x='tipos_pontos',y='pontos',data=pontos_df);\n",
    "plt.title('Distribuição dos pontos por tipo');"
   ]
  },
  {
   "cell_type": "markdown",
   "id": "aff6c499",
   "metadata": {},
   "source": [
    "* Observando o gráfico de boxplot acima, é possível notar as diferenças entre os tipos de pontos com maior precisão. Com a ideia do que foi observado anteriomente ( histogramas ), fica mais claro que os pontos de quadra se diferência de forma significativa das cestas de três. Isso já era de se esperar, pois as cestas de quadra são mais próximas do que as de três. Agora vamos verificar isso em um teste de hipóteses abaixo:"
   ]
  },
  {
   "cell_type": "markdown",
   "id": "bfcf3c80",
   "metadata": {},
   "source": [
    "#### Testes de hipóteses  \n",
    "1. Verificando a normalidade dos tipos de pontos com o teste de Shapiro-Wilk ;\n",
    "2. A partir disso vamos saber qual teste utilizar."
   ]
  },
  {
   "cell_type": "code",
   "execution_count": 110,
   "id": "9e7c8d0f",
   "metadata": {},
   "outputs": [
    {
     "data": {
      "text/plain": [
       "ShapiroResult(statistic=0.9170466065406799, pvalue=1.8368053390636087e-17)"
      ]
     },
     "execution_count": 110,
     "metadata": {},
     "output_type": "execute_result"
    }
   ],
   "source": [
    "# Teste de Shapiro-Wilk\n",
    "from scipy import stats\n",
    "stats.shapiro(nba_df['FGM'])"
   ]
  },
  {
   "cell_type": "code",
   "execution_count": 111,
   "id": "33e131eb",
   "metadata": {},
   "outputs": [
    {
     "data": {
      "text/plain": [
       "ShapiroResult(statistic=0.7895015478134155, pvalue=6.4593228996278964e-27)"
      ]
     },
     "execution_count": 111,
     "metadata": {},
     "output_type": "execute_result"
    }
   ],
   "source": [
    "stats.shapiro(nba_df['FTM'])"
   ]
  },
  {
   "cell_type": "code",
   "execution_count": 112,
   "id": "5058cac4",
   "metadata": {},
   "outputs": [
    {
     "data": {
      "text/plain": [
       "ShapiroResult(statistic=0.8820990324020386, pvalue=8.945248274215648e-21)"
      ]
     },
     "execution_count": 112,
     "metadata": {},
     "output_type": "execute_result"
    }
   ],
   "source": [
    "stats.shapiro(nba_df['FG3M'])"
   ]
  },
  {
   "cell_type": "markdown",
   "id": "d4543ba9",
   "metadata": {},
   "source": [
    "* No teste de Shapiro-Wilk com as hipóteses Ho: variável é normalmente distribuida vs. H1: variável não é normalmente distribuida; \n",
    "* Foi obtido que nenhuma das variáveis possuem distribuição normal, todas obtiveram um valor-p < 0.001. Com isso, vamos utilizar um teste não paramétrico chamado de Kruskal - Wallis;\n",
    "* O teste de Kruskal - Wallis tem as seguintes hipóteses Ho: As variáveis pertencem a mesma população vs. H1: As variáveis não pertencem a mesma população."
   ]
  },
  {
   "cell_type": "code",
   "execution_count": 127,
   "id": "dda9911a",
   "metadata": {},
   "outputs": [
    {
     "data": {
      "text/plain": [
       "KruskalResult(statistic=377.0216135005771, pvalue=1.351440249463514e-82)"
      ]
     },
     "execution_count": 127,
     "metadata": {},
     "output_type": "execute_result"
    }
   ],
   "source": [
    "# Teste de Kruskal \n",
    "stats.kruskal(nba_df['FGM'],nba_df['FTM'],nba_df['FG3M'])"
   ]
  },
  {
   "cell_type": "markdown",
   "id": "f3a85295",
   "metadata": {},
   "source": [
    "* Tendo o teste de Kruskal- Wallis acima, obtivemos um valor-p < 0.001. Com esse resultado,temos que a uma diferença significativa entre alguma das variáveis, no qual foi observado no gráfico de boxplot que os pontos de quadra são maiores do que os outros tipos. Poderiamos fazer um pós-teste, porém como foi observado nos gráficos acima, os pontos de quadra é o que se diferência dos outros tipos.\n",
    "\n",
    "* No qual chegamos a conclusão, que os pontos de quadra ainda são os mais utilizados pelos os jogadores. Em estudos posteriores, vamos tentar verificar se  está havendo alguma evolução desses tipos de pontos em decorrer das temporadas."
   ]
  }
 ],
 "metadata": {
  "kernelspec": {
   "display_name": "Python 3 (ipykernel)",
   "language": "python",
   "name": "python3"
  },
  "language_info": {
   "codemirror_mode": {
    "name": "ipython",
    "version": 3
   },
   "file_extension": ".py",
   "mimetype": "text/x-python",
   "name": "python",
   "nbconvert_exporter": "python",
   "pygments_lexer": "ipython3",
   "version": "3.7.8"
  }
 },
 "nbformat": 4,
 "nbformat_minor": 5
}
